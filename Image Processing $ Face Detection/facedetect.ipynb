{
 "cells": [
  {
   "cell_type": "code",
   "execution_count": 30,
   "id": "5d0faf18",
   "metadata": {},
   "outputs": [],
   "source": [
    "import cv2\n",
    "import numpy as np\n"
   ]
  },
  {
   "cell_type": "code",
   "execution_count": 31,
   "id": "0a03540c",
   "metadata": {},
   "outputs": [
    {
     "name": "stdout",
     "output_type": "stream",
     "text": [
      "<class 'numpy.ndarray'>\n",
      "(177, 284, 3)\n"
     ]
    },
    {
     "data": {
      "text/plain": [
       "-1"
      ]
     },
     "execution_count": 31,
     "metadata": {},
     "output_type": "execute_result"
    }
   ],
   "source": [
    "img=cv2.imread(\"images/download.jpeg\")\n",
    "print(type(img))\n",
    "print(img.shape)\n",
    "cv2.imshow(\"Window\",img)\n",
    "cv2.waitKey(0)"
   ]
  },
  {
   "cell_type": "code",
   "execution_count": 32,
   "id": "8062caa5",
   "metadata": {},
   "outputs": [
    {
     "name": "stdout",
     "output_type": "stream",
     "text": [
      "(177, 284)\n"
     ]
    },
    {
     "data": {
      "text/plain": [
       "-1"
      ]
     },
     "execution_count": 32,
     "metadata": {},
     "output_type": "execute_result"
    }
   ],
   "source": [
    "#convert the image to garyscale\n",
    "img_gray=cv2.cvtColor(img,cv2.COLOR_BGR2GRAY)\n",
    "print(img_gray.shape)\n",
    "cv2.imshow(\"Window\",img_gray)\n",
    "cv2.waitKey(0)"
   ]
  },
  {
   "cell_type": "code",
   "execution_count": 33,
   "id": "1c1d9dd5",
   "metadata": {},
   "outputs": [
    {
     "data": {
      "text/plain": [
       "-1"
      ]
     },
     "execution_count": 33,
     "metadata": {},
     "output_type": "execute_result"
    }
   ],
   "source": [
    "#playing with rgb\n",
    "image=cv2.imread(\"images/fruit.jpg\")\n",
    "cv2.imshow(\"Window\",image)\n",
    "cv2.waitKey(0)\n",
    "imgBlue=image[:,:,0]\n",
    "imgGreen=image[:,:,1]\n",
    "imgRed=image[:,:,2]\n",
    "cv2.imshow(\"Window\",imgBlue)\n",
    "cv2.waitKey(0)\n",
    "cv2.imshow(\"Window\",imgGreen)\n",
    "cv2.waitKey(0)\n",
    "cv2.imshow(\"Window\",imgRed)\n",
    "cv2.waitKey(0)\n",
    "new_img=np.hstack([imgBlue,imgGreen,imgRed])\n",
    "cv2.imshow(\"Window\",new_img)\n",
    "cv2.waitKey(0)\n"
   ]
  },
  {
   "cell_type": "code",
   "execution_count": 34,
   "id": "ecff5768",
   "metadata": {},
   "outputs": [
    {
     "name": "stdout",
     "output_type": "stream",
     "text": [
      "(408, 612, 3)\n"
     ]
    }
   ],
   "source": [
    "print(image.shape)"
   ]
  },
  {
   "cell_type": "code",
   "execution_count": 35,
   "id": "6ce67e35",
   "metadata": {},
   "outputs": [
    {
     "data": {
      "text/plain": [
       "-1"
      ]
     },
     "execution_count": 35,
     "metadata": {},
     "output_type": "execute_result"
    }
   ],
   "source": [
    "#resize\n",
    "img_resize=cv2.resize(image,(256,256))\n",
    "cv2.imshow(\"Window\",img_resize)\n",
    "cv2.waitKey(0)\n",
    "\n",
    "img_resize1=cv2.resize(image,(image.shape[1]//2,image.shape[0]//2))\n",
    "cv2.imshow(\"Window\",img_resize1)\n",
    "cv2.waitKey(0)"
   ]
  },
  {
   "cell_type": "code",
   "execution_count": 36,
   "id": "63d5a8a8",
   "metadata": {},
   "outputs": [
    {
     "data": {
      "text/plain": [
       "-1"
      ]
     },
     "execution_count": 36,
     "metadata": {},
     "output_type": "execute_result"
    }
   ],
   "source": [
    "#flipping\n",
    "img_flip=cv2.flip(img,0)                #  0 : vertical flip,  1: Horizontal flip , -1 : Combined horizontal and vertical flip\n",
    "cv2.imshow(\"Window\",img_flip)\n",
    "cv2.waitKey(0)"
   ]
  },
  {
   "cell_type": "code",
   "execution_count": 37,
   "id": "488ac254",
   "metadata": {},
   "outputs": [
    {
     "data": {
      "text/plain": [
       "-1"
      ]
     },
     "execution_count": 37,
     "metadata": {},
     "output_type": "execute_result"
    }
   ],
   "source": [
    "#croppping\n",
    "img_crop=img[100:300,100:400]\n",
    "cv2.imshow(\"Window\",img_crop)\n",
    "cv2.waitKey(0)"
   ]
  },
  {
   "cell_type": "code",
   "execution_count": 38,
   "id": "b1f71c54",
   "metadata": {},
   "outputs": [
    {
     "data": {
      "text/plain": [
       "True"
      ]
     },
     "execution_count": 38,
     "metadata": {},
     "output_type": "execute_result"
    }
   ],
   "source": [
    "#saving image\n",
    "cv2.imwrite('croppedimg.png',img_crop)\n"
   ]
  },
  {
   "cell_type": "code",
   "execution_count": 39,
   "id": "1cee14a2",
   "metadata": {},
   "outputs": [
    {
     "data": {
      "text/plain": [
       "-1"
      ]
     },
     "execution_count": 39,
     "metadata": {},
     "output_type": "execute_result"
    }
   ],
   "source": [
    "#DRAWING SHAPES\n",
    "imge=np.zeros((512,600,3))\n",
    "\n",
    "#RECTANGLE, Circle, line , text\n",
    "\n",
    "cv2.rectangle(imge,pt1=(100,100),pt2=(300,300),color=(255,0,0),thickness=3)  #fill the rectangle by thickness=-1\n",
    "cv2.circle(imge,center=(100,400),radius=50,color=(0,0,255),thickness=-1)\n",
    "cv2.line(imge,pt1=(0,0),pt2=(512,512),thickness=2,color=(0,255,0))\n",
    "#TEXT   \n",
    "cv2.putText(imge,org=(0,100),fontScale=4,color=(0,255,255),thickness=2,lineType=cv2.LINE_AA,\n",
    "            text=\"Abhishek\",fontFace=cv2.FONT_ITALIC)\n",
    "cv2.imshow(\"Window\",imge)\n",
    "cv2.waitKey(0)"
   ]
  },
  {
   "cell_type": "code",
   "execution_count": 40,
   "id": "6dda42d7",
   "metadata": {},
   "outputs": [],
   "source": [
    "#events \n",
    "img=np.zeros((512,512,3))\n",
    "\n",
    "def draw(event,x,y,flags,params):\n",
    "    if event ==0:\n",
    "        print(\"mouse Moved\")\n",
    "    if event ==1:\n",
    "        print(\"mouse down clicked\")\n",
    "    if event==4:\n",
    "        print(\"mouse upclicked\")\n",
    "\n",
    "cv2.namedWindow(winname=\"window\")\n",
    "cv2.setMouseCallback(\"window\",draw)\n",
    "\n",
    "while True:\n",
    "    cv2.imshow(\"window\",img)\n",
    "    \n",
    "    if cv2.waitKey(1) & 0xFF == ord('x'):\n",
    "        break\n",
    "    \n",
    "cv2.destroyAllWindows()"
   ]
  },
  {
   "cell_type": "code",
   "execution_count": 41,
   "id": "c7ec7372",
   "metadata": {},
   "outputs": [],
   "source": [
    "#events \n",
    "img=np.zeros((512,512,3))\n",
    "\n",
    "def draw(event,x,y,flags,params):\n",
    "    if event ==1:\n",
    "        cv2.circle(img,center=(x,y),radius=50,thickness=-1,color=(0,0,255))\n",
    "\n",
    "cv2.namedWindow(winname=\"window\")\n",
    "cv2.setMouseCallback(\"window\",draw)\n",
    "\n",
    "while True:\n",
    "    cv2.imshow(\"window\",img)\n",
    "    \n",
    "    if cv2.waitKey(1) & 0xFF == ord('x'):\n",
    "        break\n",
    "    \n",
    "cv2.destroyAllWindows()"
   ]
  },
  {
   "cell_type": "code",
   "execution_count": 42,
   "id": "5510c8e7",
   "metadata": {},
   "outputs": [],
   "source": [
    "#events \n",
    "img=np.zeros((512,512,3))\n",
    "flag=False\n",
    "ix = -1\n",
    "iy = -1\n",
    "\n",
    "def draw(event,x,y,flags,params):\n",
    "    global flag,ix,iy\n",
    "    if event ==1:\n",
    "        flag=True\n",
    "        ix=x\n",
    "        iy=y\n",
    "    elif event ==0:\n",
    "        if flag==True:\n",
    "            cv2.rectangle(img,pt1=(ix,iy),pt2=(x,y),color=(0,255,255),thickness=-1)\n",
    "    elif event ==4:\n",
    "        flag=False\n",
    "        cv2.rectangle(img,pt1=(ix,iy),pt2=(x,y),color=(0,255,255),thickness=-1)\n",
    "        \n",
    "\n",
    "cv2.namedWindow(winname=\"window\")\n",
    "cv2.setMouseCallback(\"window\",draw)\n",
    "\n",
    "while True:\n",
    "    cv2.imshow(\"window\",img)\n",
    "    \n",
    "    if cv2.waitKey(1) & 0xFF == ord('x'):\n",
    "        break\n",
    "    \n",
    "cv2.destroyAllWindows()"
   ]
  },
  {
   "cell_type": "code",
   "execution_count": 44,
   "id": "2bfcf03a",
   "metadata": {},
   "outputs": [],
   "source": [
    "# cropping tool\n",
    "img=cv2.imread(\"images/winner.jpg\")\n",
    "flag=False\n",
    "ix=-1\n",
    "iy=-1\n",
    "\n",
    "def crop(event,x,y,flags,params):\n",
    "    global flag,ix,iy\n",
    "    if event ==1:\n",
    "        flag=True\n",
    "        ix=x\n",
    "        iy=y\n",
    "    \n",
    "   # elif event ==0:\n",
    "        #if flag==True:\n",
    "        #    cv2.rectangle(img,pt1=(ix,iy),pt2=(x,y),thickness=1,color=(0,0,0))\n",
    "    \n",
    "    elif event==4:\n",
    "        fx=x\n",
    "        fy=y\n",
    "        flag=False\n",
    "        cv2.rectangle(img,pt1=(ix,iy),pt2=(x,y),thickness=1,color=(0,0,0))\n",
    "        \n",
    "        croppedimg=img[iy:fy,ix:fx]\n",
    "        cv2.imshow(\"new_window\",croppedimg)\n",
    "        cv2.waitKey(0)\n",
    "        \n",
    "        \n",
    "cv2.namedWindow(winname=\"window\")\n",
    "cv2.setMouseCallback(\"window\",crop)\n",
    "\n",
    "while True:\n",
    "    cv2.imshow(\"window\",img)\n",
    "    \n",
    "    if cv2.waitKey(1) & 0xFF == ord('x'):\n",
    "        break\n",
    "cv2.destroyAllWindows()\n",
    "    "
   ]
  },
  {
   "cell_type": "code",
   "execution_count": null,
   "id": "cf8882ac",
   "metadata": {},
   "outputs": [],
   "source": []
  },
  {
   "cell_type": "code",
   "execution_count": null,
   "id": "cf31c66e",
   "metadata": {},
   "outputs": [],
   "source": []
  },
  {
   "cell_type": "code",
   "execution_count": null,
   "id": "eee37c1e",
   "metadata": {},
   "outputs": [
    {
     "name": "stdout",
     "output_type": "stream",
     "text": [
      "True\n",
      "True\n",
      "True\n",
      "True\n",
      "True\n",
      "True\n",
      "True\n",
      "True\n",
      "True\n",
      "True\n",
      "True\n",
      "True\n",
      "True\n",
      "True\n",
      "True\n",
      "True\n",
      "True\n",
      "True\n",
      "True\n",
      "True\n",
      "True\n",
      "True\n",
      "True\n",
      "True\n",
      "True\n",
      "True\n",
      "True\n",
      "True\n",
      "True\n",
      "True\n",
      "True\n",
      "True\n",
      "True\n",
      "True\n",
      "True\n",
      "True\n",
      "True\n",
      "True\n",
      "True\n",
      "True\n",
      "True\n",
      "True\n",
      "True\n",
      "True\n",
      "True\n",
      "True\n",
      "True\n",
      "True\n",
      "True\n",
      "True\n",
      "True\n",
      "True\n",
      "True\n",
      "True\n",
      "True\n",
      "True\n",
      "True\n",
      "True\n",
      "True\n",
      "True\n",
      "True\n",
      "True\n",
      "True\n",
      "True\n",
      "True\n",
      "True\n",
      "True\n",
      "True\n",
      "True\n",
      "True\n",
      "True\n",
      "True\n",
      "True\n",
      "True\n",
      "True\n",
      "True\n",
      "True\n",
      "True\n",
      "True\n",
      "True\n",
      "True\n",
      "True\n",
      "True\n",
      "True\n",
      "True\n",
      "True\n",
      "True\n",
      "True\n",
      "True\n",
      "True\n",
      "True\n",
      "True\n",
      "True\n",
      "True\n",
      "True\n",
      "True\n",
      "True\n",
      "True\n",
      "True\n",
      "True\n",
      "True\n",
      "True\n",
      "True\n",
      "True\n",
      "True\n",
      "True\n",
      "True\n",
      "True\n",
      "True\n",
      "True\n",
      "True\n",
      "True\n",
      "True\n",
      "True\n",
      "True\n",
      "True\n",
      "True\n",
      "True\n",
      "True\n",
      "True\n",
      "True\n",
      "True\n",
      "True\n",
      "True\n",
      "True\n",
      "True\n",
      "True\n",
      "True\n",
      "True\n",
      "True\n",
      "True\n",
      "True\n",
      "True\n",
      "True\n",
      "True\n",
      "True\n",
      "True\n",
      "True\n",
      "True\n",
      "True\n",
      "True\n",
      "True\n",
      "True\n",
      "True\n",
      "True\n",
      "True\n",
      "True\n",
      "True\n",
      "True\n",
      "True\n",
      "True\n",
      "True\n",
      "True\n",
      "True\n",
      "True\n",
      "True\n",
      "True\n",
      "True\n",
      "True\n",
      "True\n",
      "True\n",
      "True\n",
      "True\n",
      "True\n",
      "True\n",
      "True\n",
      "True\n",
      "True\n",
      "True\n",
      "True\n",
      "True\n",
      "True\n",
      "True\n",
      "True\n",
      "True\n",
      "True\n",
      "True\n",
      "True\n",
      "True\n",
      "True\n",
      "True\n",
      "True\n",
      "True\n",
      "True\n",
      "True\n",
      "True\n",
      "True\n",
      "True\n",
      "True\n",
      "True\n",
      "True\n",
      "True\n",
      "True\n",
      "True\n",
      "True\n",
      "True\n",
      "True\n",
      "True\n",
      "True\n",
      "True\n",
      "True\n",
      "True\n",
      "True\n",
      "True\n",
      "True\n",
      "True\n",
      "True\n",
      "True\n",
      "True\n",
      "True\n",
      "True\n",
      "True\n"
     ]
    }
   ],
   "source": [
    "#working with videos\n",
    "\n",
    "cap=cv2.VideoCapture(0)\n",
    "\n",
    "while True:\n",
    "    ret, frame = cap.read()\n",
    "    \n",
    "    print(ret)\n",
    "\n",
    "    if cv2.waitKey(1) & 0xFF == ord('s'):\n",
    "        break\n",
    "cv2.destroyAllWindows()"
   ]
  }
 ],
 "metadata": {
  "kernelspec": {
   "display_name": "Python 3",
   "language": "python",
   "name": "python3"
  },
  "language_info": {
   "codemirror_mode": {
    "name": "ipython",
    "version": 3
   },
   "file_extension": ".py",
   "mimetype": "text/x-python",
   "name": "python",
   "nbconvert_exporter": "python",
   "pygments_lexer": "ipython3",
   "version": "3.10.0"
  }
 },
 "nbformat": 4,
 "nbformat_minor": 5
}
